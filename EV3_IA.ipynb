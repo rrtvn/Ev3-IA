{
  "cells": [
    {
      "cell_type": "markdown",
      "metadata": {
        "id": "I20V7968EEx0"
      },
      "source": [
        "## **Evaluacion 3**\n",
        "\n",
        "\n"
      ]
    },
    {
      "cell_type": "markdown",
      "metadata": {
        "id": "R6Vk5m0iHslt"
      },
      "source": [
        "**1. Optimizar la distribución de recursos (agua para riego) en plazas y parques de la ciudad de Quillota (Algoritmo Genético)**"
      ]
    },
    {
      "cell_type": "markdown",
      "metadata": {
        "id": "CbUFRL7MGJOi"
      },
      "source": [
        "**Definición del Problema**\n",
        "\n",
        "El objetivo es optimizar el uso de agua para riego en diferentes áreas verdes de la ciudad, de modo que se minimice el consumo de agua y se maximice la salud de las plantas.\n",
        "\n"
      ]
    },
    {
      "cell_type": "markdown",
      "metadata": {
        "id": "NEsSRG13GYKz"
      },
      "source": [
        "**Representación del Cromosomas:**\n",
        "Cada cromosoma representa una configuración de tiempos de riego para diferentes áreas. Cada gen puede ser el tiempo de riego asignado a una zona específica."
      ]
    },
    {
      "cell_type": "code",
      "execution_count": 5,
      "metadata": {
        "id": "wSpyU9sOGG8Q"
      },
      "outputs": [],
      "source": [
        "import random\n",
        "\n",
        "# Definición de los parámetros del algoritmo genético\n",
        "POBLACION_INICIAL = 1000  # Número de individuos en la población inicial\n",
        "GENERACIONES = 100  # Número de generaciones para la evolución\n",
        "TASA_MUTACION = 0.01  # Probabilidad de que ocurra una mutación en un individuo\n",
        "\n",
        "# Datos ficticios de plazas y parques de la ciudad de Quillota\n",
        "NUMERO_ZONAS = 10  # Número de plazas y parques\n",
        "DEMANDA_AGUA = [random.randint(1, 100) for _ in range(NUMERO_ZONAS)]  # Demanda de agua en cada zona\n",
        "SUMINISTRO_AGUA = sum(DEMANDA_AGUA)  # Suministro total de agua disponible\n",
        "\n",
        "def crear_individuo():\n",
        "    \"\"\"\n",
        "    Crear un individuo aleatorio.\n",
        "    Un individuo representa una posible distribución de agua entre las zonas.\n",
        "    \"\"\"\n",
        "    return [random.uniform(0, SUMINISTRO_AGUA) for _ in range(NUMERO_ZONAS)]\n",
        "\n",
        "def crear_poblacion(tamaño):\n",
        "    \"\"\"\n",
        "    Crear una población inicial de individuos.\n",
        "\n",
        "    \"\"\"\n",
        "    return [crear_individuo() for _ in range(tamaño)]\n"
      ]
    },
    {
      "cell_type": "markdown",
      "metadata": {
        "id": "kcchGntpI4br"
      },
      "source": [
        "**Función de Aptitud**\n",
        "\n",
        "La función de aptitud debe evaluar la configuración de tiempos de riego basada en criterios como el consumo de agua y la salud de las plantas."
      ]
    },
    {
      "cell_type": "code",
      "execution_count": 6,
      "metadata": {
        "id": "zTL9ouH2x189"
      },
      "outputs": [],
      "source": [
        "def calcular_amplitud(individuo):\n",
        "    \"\"\"\n",
        "    Calcular la amplitud de un individuo.\n",
        "    La amplitud se mide como la suma de las diferencias absolutas entre la distribución\n",
        "    propuesta y la demanda de agua en cada zona.\n",
        ".\n",
        "    \"\"\"\n",
        "    return -sum(abs(individuo[i] - DEMANDA_AGUA[i]) for i in range(NUMERO_ZONAS))\n"
      ]
    },
    {
      "cell_type": "markdown",
      "metadata": {
        "id": "37Uj6FBvI-6V"
      },
      "source": [
        "**Selección, Cruce y Mutación**\n",
        "\n",
        "Utilizaremos métodos similares a los descritos anteriormente, ajustando la selección, cruce y mutación a este nuevo contexto.\n",
        "\n",
        "**Ejecución del Algoritmo Genético**\n",
        "\n",
        "Combinar todos los componentes en un ciclo evolutivo."
      ]
    },
    {
      "cell_type": "code",
      "execution_count": 7,
      "metadata": {
        "colab": {
          "base_uri": "https://localhost:8080/"
        },
        "collapsed": true,
        "id": "fwK5hkncx18-",
        "outputId": "4b520fcf-6ea0-4e66-e36a-9b15b7b4b4a6"
      },
      "outputs": [
        {
          "output_type": "stream",
          "name": "stdout",
          "text": [
            "Generación 0: Mejor amplitud = -778.8123069791827\n",
            "Generación 1: Mejor amplitud = -617.8218375211783\n",
            "Generación 2: Mejor amplitud = -509.0634668256158\n",
            "Generación 3: Mejor amplitud = -509.9432845717609\n",
            "Generación 4: Mejor amplitud = -357.25284329854657\n",
            "Generación 5: Mejor amplitud = -338.5213219670411\n",
            "Generación 6: Mejor amplitud = -337.7740576490019\n",
            "Generación 7: Mejor amplitud = -298.4347184386136\n",
            "Generación 8: Mejor amplitud = -213.34513707824723\n",
            "Generación 9: Mejor amplitud = -190.80726528961623\n",
            "Generación 10: Mejor amplitud = -223.90665681514307\n",
            "Generación 11: Mejor amplitud = -158.45219115165813\n",
            "Generación 12: Mejor amplitud = -179.59678223439485\n",
            "Generación 13: Mejor amplitud = -203.44804139120163\n",
            "Generación 14: Mejor amplitud = -111.75276156091452\n",
            "Generación 15: Mejor amplitud = -127.40497178457463\n",
            "Generación 16: Mejor amplitud = -132.13017386174607\n",
            "Generación 17: Mejor amplitud = -111.75276156091452\n",
            "Generación 18: Mejor amplitud = -87.95832817989783\n",
            "Generación 19: Mejor amplitud = -87.34875616082408\n",
            "Generación 20: Mejor amplitud = -83.88073696784276\n",
            "Generación 21: Mejor amplitud = -63.618477601732025\n",
            "Generación 22: Mejor amplitud = -68.83837632851136\n",
            "Generación 23: Mejor amplitud = -65.4999240551969\n",
            "Generación 24: Mejor amplitud = -57.94774882557246\n",
            "Generación 25: Mejor amplitud = -31.425711843695254\n",
            "Generación 26: Mejor amplitud = -23.526867816143813\n",
            "Generación 27: Mejor amplitud = -31.400828304890275\n",
            "Generación 28: Mejor amplitud = -29.63855514199637\n",
            "Generación 29: Mejor amplitud = -23.501984277338835\n",
            "Generación 30: Mejor amplitud = -22.88466845986335\n",
            "Generación 31: Mejor amplitud = -18.763876714580213\n",
            "Generación 32: Mejor amplitud = -19.01373517538203\n",
            "Generación 33: Mejor amplitud = -17.414635552987342\n",
            "Generación 34: Mejor amplitud = -19.10924094751457\n",
            "Generación 35: Mejor amplitud = -18.033368537717152\n",
            "Generación 36: Mejor amplitud = -14.873855631621236\n",
            "Generación 37: Mejor amplitud = -15.238307663033256\n",
            "Generación 38: Mejor amplitud = -13.476034500139349\n",
            "Generación 39: Mejor amplitud = -13.476034500139349\n",
            "Generación 40: Mejor amplitud = -13.476034500139349\n",
            "Generación 41: Mejor amplitud = -13.27400297072218\n",
            "Generación 42: Mejor amplitud = -13.27400297072218\n",
            "Generación 43: Mejor amplitud = -13.27400297072218\n",
            "Generación 44: Mejor amplitud = -12.253682974480178\n",
            "Generación 45: Mejor amplitud = -12.253682974480178\n",
            "Generación 46: Mejor amplitud = -12.092280609261401\n",
            "Generación 47: Mejor amplitud = -11.890249079844232\n",
            "Generación 48: Mejor amplitud = -11.890249079844232\n",
            "Generación 49: Mejor amplitud = -11.890249079844232\n",
            "Generación 50: Mejor amplitud = -11.890249079844232\n",
            "Generación 51: Mejor amplitud = -11.890249079844232\n",
            "Generación 52: Mejor amplitud = -11.890249079844232\n",
            "Generación 53: Mejor amplitud = -11.890249079844232\n",
            "Generación 54: Mejor amplitud = -11.890249079844232\n",
            "Generación 55: Mejor amplitud = -11.890249079844232\n",
            "Generación 56: Mejor amplitud = -11.890249079844232\n",
            "Generación 57: Mejor amplitud = -11.890249079844232\n",
            "Generación 58: Mejor amplitud = -11.475418078038437\n",
            "Generación 59: Mejor amplitud = -11.890249079844232\n",
            "Generación 60: Mejor amplitud = -11.890249079844232\n",
            "Generación 61: Mejor amplitud = -11.890249079844232\n",
            "Generación 62: Mejor amplitud = -7.720541795309194\n",
            "Generación 63: Mejor amplitud = -7.518510265892025\n",
            "Generación 64: Mejor amplitud = -7.518510265892025\n",
            "Generación 65: Mejor amplitud = -7.518510265892025\n",
            "Generación 66: Mejor amplitud = -7.518510265892025\n",
            "Generación 67: Mejor amplitud = -7.518510265892025\n",
            "Generación 68: Mejor amplitud = -7.518510265892025\n",
            "Generación 69: Mejor amplitud = -7.518510265892025\n",
            "Generación 70: Mejor amplitud = -7.518510265892025\n",
            "Generación 71: Mejor amplitud = -7.518510265892025\n",
            "Generación 72: Mejor amplitud = -7.143917153934004\n",
            "Generación 73: Mejor amplitud = -7.143917153934004\n",
            "Generación 74: Mejor amplitud = -7.143917153934004\n",
            "Generación 75: Mejor amplitud = -7.143917153934004\n",
            "Generación 76: Mejor amplitud = -7.143917153934004\n",
            "Generación 77: Mejor amplitud = -7.143917153934004\n",
            "Generación 78: Mejor amplitud = -7.143917153934004\n",
            "Generación 79: Mejor amplitud = -7.143917153934004\n",
            "Generación 80: Mejor amplitud = -7.143917153934004\n",
            "Generación 81: Mejor amplitud = -7.143917153934004\n",
            "Generación 82: Mejor amplitud = -7.143917153934004\n",
            "Generación 83: Mejor amplitud = -7.143917153934004\n",
            "Generación 84: Mejor amplitud = -7.143917153934004\n",
            "Generación 85: Mejor amplitud = -7.143917153934004\n",
            "Generación 86: Mejor amplitud = -7.143917153934004\n",
            "Generación 87: Mejor amplitud = -7.143917153934004\n",
            "Generación 88: Mejor amplitud = -7.143917153934004\n",
            "Generación 89: Mejor amplitud = -7.143917153934004\n",
            "Generación 90: Mejor amplitud = -7.143917153934004\n",
            "Generación 91: Mejor amplitud = -7.143917153934004\n",
            "Generación 92: Mejor amplitud = -5.788821582555861\n",
            "Generación 93: Mejor amplitud = -5.788821582555861\n",
            "Generación 94: Mejor amplitud = -5.788821582555861\n",
            "Generación 95: Mejor amplitud = -5.788821582555861\n",
            "Generación 96: Mejor amplitud = -7.143917153934004\n",
            "Generación 97: Mejor amplitud = -7.143917153934004\n",
            "Generación 98: Mejor amplitud = -7.143917153934004\n",
            "Generación 99: Mejor amplitud = -7.143917153934004\n",
            "Mejor distribución de recursos encontrada: [12.389997173802406, 94.60281741557755, 20.082798390350554, 52.85524542376541, 59.68815564295929, 63.80397146886048, 59.70655185147414, 54.32446023344068, 44.03767587659286, 7.572712155262601]\n"
          ]
        }
      ],
      "source": [
        "def seleccionar_padres(poblacion):\n",
        "    \"\"\"\n",
        "    Seleccionar dos padres de la población utilizando el método de torneo.\n",
        "\n",
        "    \"\"\"\n",
        "    torneo = random.sample(poblacion, 3)\n",
        "    torneo.sort(key=calcular_amplitud, reverse=True)\n",
        "    return torneo[0], torneo[1]\n",
        "\n",
        "def cruzar(padre1, padre2):\n",
        "    \"\"\"\n",
        "    Cruzar dos padres para producir dos hijos.\n",
        "\n",
        "    \"\"\"\n",
        "    punto_corte = random.randint(1, NUMERO_ZONAS - 1)\n",
        "    hijo1 = padre1[:punto_corte] + padre2[punto_corte:]\n",
        "    hijo2 = padre2[:punto_corte] + padre1[punto_corte:]\n",
        "    return hijo1, hijo2\n",
        "\n",
        "def mutar(individuo):\n",
        "    \"\"\"\n",
        "    Mutar un individuo con una probabilidad dada.\n",
        "\n",
        "    \"\"\"\n",
        "    if random.random() < TASA_MUTACION:\n",
        "        indice = random.randint(0, NUMERO_ZONAS - 1)\n",
        "        individuo[indice] = random.uniform(0, SUMINISTRO_AGUA)\n",
        "    return individuo\n",
        "\n",
        "def algoritmo_genetico():\n",
        "    \"\"\"\n",
        "    Función principal del algoritmo genético.\n",
        "    Crea una población inicial y la evoluciona a través de varias generaciones.\n",
        "\n",
        "    \"\"\"\n",
        "    # Crear una población inicial\n",
        "    poblacion = crear_poblacion(POBLACION_INICIAL)\n",
        "\n",
        "    # Evolucionar la población a través de un número de generaciones\n",
        "    for generacion in range(GENERACIONES):\n",
        "        nueva_poblacion = []\n",
        "\n",
        "        # Crear una nueva generación\n",
        "        for _ in range(POBLACION_INICIAL // 2):\n",
        "            padre1, padre2 = seleccionar_padres(poblacion)\n",
        "            hijo1, hijo2 = cruzar(padre1, padre2)\n",
        "            nueva_poblacion.extend([mutar(hijo1), mutar(hijo2)])\n",
        "\n",
        "        # Reemplazar la población antigua con la nueva generación\n",
        "        poblacion = nueva_poblacion\n",
        "\n",
        "        # Mostrar el mejor individuo de la generación actual\n",
        "        mejor_individuo = max(poblacion, key=calcular_amplitud)\n",
        "        print(f\"Generación {generacion}: Mejor amplitud = {calcular_amplitud(mejor_individuo)}\")\n",
        "\n",
        "    # Devolver el mejor individuo encontrado\n",
        "    mejor_individuo = max(poblacion, key=calcular_amplitud)\n",
        "    return mejor_individuo\n",
        "\n",
        "# Ejecutar el algoritmo genético\n",
        "mejor_solucion = algoritmo_genetico()\n",
        "print(\"Mejor distribución de recursos encontrada:\", mejor_solucion)"
      ]
    },
    {
      "cell_type": "markdown",
      "metadata": {
        "id": "zlRTM3IOEmal"
      },
      "source": [
        "\n",
        "\n",
        "---\n",
        "\n",
        "\n",
        "---\n",
        "\n",
        "\n"
      ]
    },
    {
      "cell_type": "markdown",
      "metadata": {
        "id": "NUlwwZ84EoMI"
      },
      "source": [
        "**2. Sistema de Control Difuso para la Gestión de la Intensidad de las Luces de la Calle en Quillota**"
      ]
    },
    {
      "cell_type": "markdown",
      "metadata": {
        "id": "Em6E95kxF6Wc"
      },
      "source": [
        "**Definición del Problema**\n",
        "\n",
        "El objetivo de este sistema es gestionar la intensidad de las luces de la calle en función de la hora del día, el tráfico y las condiciones climáticas utilizando lógica difusa. A continuación, se detalla cómo se aplica este sistema a la problemática específica de la ciudad de Quillota."
      ]
    },
    {
      "cell_type": "markdown",
      "metadata": {
        "id": "3OAiFsNBGB5w"
      },
      "source": [
        "**Algoritmo de Lógica Difusa**\n",
        "\n",
        "Para implementar un sistema de control difuso, seguiremos los siguientes pasos:\n",
        "\n",
        "\n",
        "\n",
        "1.   Definición de las variables de entrada y salida.\n",
        "2.   Definición de las funciones de membresía.\n",
        "3.   Definición de las reglas difusas.\n",
        "4.   Inferencia y defuzzificación para obtener la salida.\n",
        "\n",
        "\n",
        "\n",
        "\n",
        "\n",
        "\n"
      ]
    },
    {
      "cell_type": "markdown",
      "metadata": {
        "id": "uC7ZnOPZIRu_"
      },
      "source": [
        "**Definición del Sistema Difuso**"
      ]
    },
    {
      "cell_type": "code",
      "execution_count": 1,
      "metadata": {
        "colab": {
          "base_uri": "https://localhost:8080/"
        },
        "id": "C8UzuIY0H04q",
        "outputId": "b382a13a-b1c9-4b17-b14a-17cb94ffbafb",
        "collapsed": true
      },
      "outputs": [
        {
          "output_type": "stream",
          "name": "stdout",
          "text": [
            "Collecting scikit-fuzzy\n",
            "  Downloading scikit-fuzzy-0.4.2.tar.gz (993 kB)\n",
            "\u001b[?25l     \u001b[90m━━━━━━━━━━━━━━━━━━━━━━━━━━━━━━━━━━━━━━━━\u001b[0m \u001b[32m0.0/994.0 kB\u001b[0m \u001b[31m?\u001b[0m eta \u001b[36m-:--:--\u001b[0m\r\u001b[2K     \u001b[91m━━━━━━━\u001b[0m\u001b[90m╺\u001b[0m\u001b[90m━━━━━━━━━━━━━━━━━━━━━━━━━━━━━━━━\u001b[0m \u001b[32m184.3/994.0 kB\u001b[0m \u001b[31m5.3 MB/s\u001b[0m eta \u001b[36m0:00:01\u001b[0m\r\u001b[2K     \u001b[91m━━━━━━━━━━━━━━━━━━━━━━━━━━━━━━━━━━━━━━━\u001b[0m\u001b[91m╸\u001b[0m \u001b[32m993.3/994.0 kB\u001b[0m \u001b[31m16.3 MB/s\u001b[0m eta \u001b[36m0:00:01\u001b[0m\r\u001b[2K     \u001b[90m━━━━━━━━━━━━━━━━━━━━━━━━━━━━━━━━━━━━━━━━\u001b[0m \u001b[32m994.0/994.0 kB\u001b[0m \u001b[31m12.9 MB/s\u001b[0m eta \u001b[36m0:00:00\u001b[0m\n",
            "\u001b[?25h  Preparing metadata (setup.py) ... \u001b[?25l\u001b[?25hdone\n",
            "Requirement already satisfied: numpy>=1.6.0 in /usr/local/lib/python3.10/dist-packages (from scikit-fuzzy) (1.25.2)\n",
            "Requirement already satisfied: scipy>=0.9.0 in /usr/local/lib/python3.10/dist-packages (from scikit-fuzzy) (1.11.4)\n",
            "Requirement already satisfied: networkx>=1.9.0 in /usr/local/lib/python3.10/dist-packages (from scikit-fuzzy) (3.3)\n",
            "Building wheels for collected packages: scikit-fuzzy\n",
            "  Building wheel for scikit-fuzzy (setup.py) ... \u001b[?25l\u001b[?25hdone\n",
            "  Created wheel for scikit-fuzzy: filename=scikit_fuzzy-0.4.2-py3-none-any.whl size=894078 sha256=6d1a98f5777004e4a42eb5f5581bdb202cd1b6e6e5a2c3051f84913410370685\n",
            "  Stored in directory: /root/.cache/pip/wheels/4f/86/1b/dfd97134a2c8313e519bcebd95d3fedc7be7944db022094bc8\n",
            "Successfully built scikit-fuzzy\n",
            "Installing collected packages: scikit-fuzzy\n",
            "Successfully installed scikit-fuzzy-0.4.2\n"
          ]
        }
      ],
      "source": [
        "# Instalación de la biblioteca scikit-fuzzy\n",
        "!pip install scikit-fuzzy\n",
        "\n",
        "import numpy as np\n",
        "import skfuzzy as fuzz\n",
        "from skfuzzy import control as ctrl\n",
        "\n",
        "# Definición de variables difusas\n",
        "# Variables de entrada\n",
        "hora = ctrl.Antecedent(np.arange(0, 24, 1), 'hora')\n",
        "trafico = ctrl.Antecedent(np.arange(0, 101, 1), 'trafico')\n",
        "clima = ctrl.Antecedent(np.arange(0, 101, 1), 'clima')\n",
        "\n",
        "# Variable de salida\n",
        "intensidad_luz = ctrl.Consequent(np.arange(0, 101, 1), 'intensidad_luz')\n",
        "\n",
        "# Funciones de pertenencia para 'hora'\n",
        "hora['madrugada'] = fuzz.trimf(hora.universe, [0, 0, 6])\n",
        "hora['mañana'] = fuzz.trimf(hora.universe, [5, 9, 12])\n",
        "hora['tarde'] = fuzz.trimf(hora.universe, [11, 15, 18])\n",
        "hora['noche'] = fuzz.trimf(hora.universe, [17, 20, 24])\n",
        "\n",
        "# Funciones de pertenencia para 'trafico'\n",
        "trafico['bajo'] = fuzz.trimf(trafico.universe, [0, 0, 50])\n",
        "trafico['medio'] = fuzz.trimf(trafico.universe, [30, 50, 70])\n",
        "trafico['alto'] = fuzz.trimf(trafico.universe, [60, 100, 100])\n",
        "\n",
        "# Funciones de pertenencia para 'clima'\n",
        "clima['despejado'] = fuzz.trimf(clima.universe, [0, 0, 50])\n",
        "clima['nublado'] = fuzz.trimf(clima.universe, [30, 50, 70])\n",
        "clima['lluvioso'] = fuzz.trimf(clima.universe, [60, 100, 100])\n",
        "\n",
        "# Funciones de pertenencia para 'intensidad_luz'\n",
        "intensidad_luz['baja'] = fuzz.trimf(intensidad_luz.universe, [0, 0, 50])\n",
        "intensidad_luz['media'] = fuzz.trimf(intensidad_luz.universe, [30, 50, 70])\n",
        "intensidad_luz['alta'] = fuzz.trimf(intensidad_luz.universe, [60, 100, 100])\n"
      ]
    },
    {
      "cell_type": "markdown",
      "metadata": {
        "id": "bxN4GW9tIGSx"
      },
      "source": [
        "**Definición de las Reglas Difusas**\n",
        "\n",
        "Se definen reglas que relacionan las variables de entrada con la variable de salida"
      ]
    },
    {
      "cell_type": "code",
      "execution_count": 2,
      "metadata": {
        "id": "Pf2mRAOdIG10",
        "collapsed": true
      },
      "outputs": [],
      "source": [
        "# Definición de reglas difusas\n",
        "regla1 = ctrl.Rule(hora['madrugada'] & trafico['bajo'] & clima['despejado'], intensidad_luz['baja'])\n",
        "regla2 = ctrl.Rule(hora['noche'] & trafico['alto'] & clima['lluvioso'], intensidad_luz['alta'])\n",
        "regla3 = ctrl.Rule(hora['tarde'] & trafico['medio'] & clima['nublado'], intensidad_luz['media'])\n",
        "regla4 = ctrl.Rule(hora['mañana'] & trafico['bajo'] & clima['despejado'], intensidad_luz['baja'])\n",
        "regla5 = ctrl.Rule(hora['noche'] & trafico['medio'] & clima['nublado'], intensidad_luz['media'])\n",
        "\n",
        "# Creación del sistema de control difuso\n",
        "control_intensidad = ctrl.ControlSystem([regla1, regla2, regla3, regla4, regla5])\n",
        "simulador = ctrl.ControlSystemSimulation(control_intensidad)"
      ]
    },
    {
      "cell_type": "markdown",
      "metadata": {
        "id": "-sGhdLORIcPo"
      },
      "source": [
        "**Ejemplo de Uso**\n",
        "\n",
        "Se configuran las entradas del simulador con valores específicos de hora, tráfico y clima"
      ]
    },
    {
      "cell_type": "code",
      "execution_count": 3,
      "metadata": {
        "colab": {
          "base_uri": "https://localhost:8080/"
        },
        "id": "TEOTNB4XIfL-",
        "outputId": "a056c413-e44a-4201-f075-e4d44e222db9",
        "collapsed": true
      },
      "outputs": [
        {
          "output_type": "stream",
          "name": "stdout",
          "text": [
            "Intensidad ajustada de las luces de la calle: 82.38%\n"
          ]
        }
      ],
      "source": [
        "def ajustar_intensidad_luz(hora_dia, nivel_trafico, condiciones_climaticas):\n",
        "    \"\"\"\n",
        "    Ajustar la intensidad de las luces de la calle utilizando lógica difusa.\n",
        "\n",
        "    \"\"\"\n",
        "    # Establecer los valores de entrada\n",
        "    simulador.input['hora'] = hora_dia\n",
        "    simulador.input['trafico'] = nivel_trafico\n",
        "    simulador.input['clima'] = condiciones_climaticas\n",
        "\n",
        "    # Realizar la simulación\n",
        "    simulador.compute()\n",
        "\n",
        "    # Obtener el resultado de la intensidad de la luz\n",
        "    return simulador.output['intensidad_luz']\n",
        "\n",
        "# Ejemplo de uso\n",
        "hora_dia = 21  # 21:00 horas (9 PM)\n",
        "nivel_trafico = 80  # Tráfico alto\n",
        "condiciones_climaticas = 70  # Clima nublado\n",
        "\n",
        "intensidad_ajustada = ajustar_intensidad_luz(hora_dia, nivel_trafico, condiciones_climaticas)\n",
        "print(f\"Intensidad ajustada de las luces de la calle: {intensidad_ajustada:.2f}%\")"
      ]
    },
    {
      "cell_type": "markdown",
      "metadata": {
        "id": "K1m9Pq7lNbhF"
      },
      "source": [
        "\n",
        "\n",
        "---\n",
        "\n",
        "\n",
        "\n",
        "---\n",
        "\n"
      ]
    },
    {
      "cell_type": "markdown",
      "metadata": {
        "id": "NywZi0vFx19B"
      },
      "source": [
        "**3. Código para la Representación del Conocimiento utilizando Lógica Proposicional**"
      ]
    },
    {
      "cell_type": "markdown",
      "source": [
        "**Definicion Problematica**\n",
        "\n",
        "El objetivo con este algoritmo es modelar el conocimiento sobre las reglas de tráfico y el comportamiento de los conductores utilizando lógica proposicional."
      ],
      "metadata": {
        "id": "HMA75drozge2"
      }
    },
    {
      "cell_type": "code",
      "execution_count": 6,
      "metadata": {
        "colab": {
          "base_uri": "https://localhost:8080/"
        },
        "id": "mP4PzgokjxFr",
        "outputId": "808de7a1-4994-4085-f93f-ab0d7274c296"
      },
      "outputs": [
        {
          "output_type": "stream",
          "name": "stdout",
          "text": [
            "¿El conductor se detiene?: True\n",
            "¿El conductor no excede el límite de velocidad?: True\n"
          ]
        }
      ],
      "source": [
        "# Importamos la biblioteca sympy para manejar la lógica proposicional\n",
        "from sympy import symbols\n",
        "from sympy.logic.boolalg import And, Or, Not, Implies, Equivalent\n",
        "\n",
        "# Definición de proposiciones\n",
        "# Representan diferentes aspectos del tráfico y comportamiento de los conductores\n",
        "S = symbols('S')  # Proposición: \"Hay una señal de alto\"\n",
        "L = symbols('L')  # Proposición: \"Hay un límite de velocidad\"\n",
        "C = symbols('C')  # Proposición: \"El conductor se detiene\"\n",
        "S_Exceso = symbols('S_Exceso')  # Proposición: \"El conductor excede el límite de velocidad\"\n",
        "\n",
        "# Base de Conocimientos (KB)\n",
        "# Agregamos hechos y reglas conocidas sobre el tráfico\n",
        "KB = []\n",
        "\n",
        "# Regla: Si hay una señal de alto, entonces el conductor debe detenerse\n",
        "regla_1 = Implies(S, C)\n",
        "KB.append(regla_1)\n",
        "\n",
        "# Regla: Si hay un límite de velocidad, entonces el conductor no debe exceder el límite de velocidad\n",
        "regla_2 = Implies(L, Not(S_Exceso))\n",
        "KB.append(regla_2)\n",
        "\n",
        "# Agregar hechos conocidos\n",
        "# Por ejemplo: \"Hay una señal de alto en la intersección\"\n",
        "hecho_1 = S\n",
        "KB.append(hecho_1)\n",
        "\n",
        "# Por ejemplo: \"Hay un límite de velocidad en la carretera\"\n",
        "hecho_2 = L\n",
        "KB.append(hecho_2)\n",
        "\n",
        "# Función para evaluar la base de conocimientos\n",
        "def evaluar_KB(KB, consulta):\n",
        "    \"\"\"\n",
        "    Evaluar si una consulta se deduce de la base de conocimientos (KB).\n",
        "\n",
        "    \"\"\"\n",
        "    from sympy.logic.inference import satisfiable\n",
        "\n",
        "    # Crear una conjunción de todas las proposiciones en KB\n",
        "    conjuncion_KB = And(*KB)\n",
        "\n",
        "    # Evaluar si la negación de la consulta es satisfiable con KB\n",
        "    # Si es insatisfiable, entonces la consulta se deduce de KB\n",
        "    return not satisfiable(And(conjuncion_KB, Not(consulta)))\n",
        "\n",
        "# Consultas sobre la base de conocimientos\n",
        "consulta_1 = S  # \"¿El conductor se detiene?\"\n",
        "resultado_1 = evaluar_KB(KB, consulta_1)\n",
        "print(f\"¿El conductor se detiene?: {resultado_1}\")\n",
        "\n",
        "consulta_2 = Not(S_Exceso)  # \"¿El conductor no excede el límite de velocidad?\"\n",
        "resultado_2 = evaluar_KB(KB, consulta_2)\n",
        "print(f\"¿El conductor no excede el límite de velocidad?: {resultado_2}\")\n"
      ]
    },
    {
      "cell_type": "markdown",
      "metadata": {
        "id": "0dfO1T1HkHLs"
      },
      "source": [
        "\n",
        "\n",
        "---\n",
        "\n",
        "\n",
        "\n",
        "---\n",
        "\n"
      ]
    },
    {
      "cell_type": "markdown",
      "metadata": {
        "id": "4KnexBQCx19D"
      },
      "source": [
        "**4. Código para el Diagnóstico y Reparación de Problemas en el Sistema de Suministro de Agua**"
      ]
    },
    {
      "cell_type": "markdown",
      "source": [
        "**Definicion de la Problematica**\n",
        "\n",
        "Este código proporciona una estructura básica para implementar un sistema de producción basado en reglas utilizando marcos para el diagnóstico y reparación de problemas en el sistema de suministro de agua de la ciudad de Quillota"
      ],
      "metadata": {
        "id": "o74l5mx4UZEq"
      }
    },
    {
      "cell_type": "code",
      "execution_count": 8,
      "metadata": {
        "colab": {
          "base_uri": "https://localhost:8080/"
        },
        "id": "5CgcoAPSx19D",
        "outputId": "3f7f786e-8c1c-4f6f-871d-4cf965381852"
      },
      "outputs": [
        {
          "output_type": "stream",
          "name": "stdout",
          "text": [
            "Problema: Baja Presión\n",
            "Solución recomendada: Verificar válvula de entrada de agua\n",
            "\n",
            "Problema: Fuga de Agua\n",
            "Solución recomendada: Reparar tubería dañada\n",
            "\n",
            "Problema: Contador de Agua Dañado\n",
            "Solución recomendada: Reemplazar contador de agua\n",
            "\n",
            "Problema: Falta de Suministro de Agua\n",
            "Solución recomendada: No se encontró una solución para el problema proporcionado.\n"
          ]
        }
      ],
      "source": [
        "# Definición de marcos para representar estados del sistema y acciones correctivas\n",
        "class Marco:\n",
        "    def __init__(self, estado, accion_correctiva):\n",
        "        self.estado = estado\n",
        "        self.accion_correctiva = accion_correctiva\n",
        "\n",
        "# Definición de la base de conocimientos de marcos\n",
        "base_conocimientos = {\n",
        "    \"Baja Presión\": Marco(\"Baja Presión\", \"Verificar válvula de entrada de agua\"),\n",
        "    \"Fuga de Agua\": Marco(\"Fuga de Agua\", \"Reparar tubería dañada\"),\n",
        "    \"Contador de Agua Dañado\": Marco(\"Contador de Agua Dañado\", \"Reemplazar contador de agua\"),\n",
        "    # Agregar más marcos según sea necesario para representar diferentes problemas y soluciones\n",
        "}\n",
        "\n",
        "# Sistema de producción basado en reglas\n",
        "def sistema_produccion(problema):\n",
        "    \"\"\"\n",
        "    Función que busca un marco en la base de conocimientos que coincida con el problema dado\n",
        "    y devuelve la acción correctiva asociada.\n",
        "\n",
        "\n",
        "    \"\"\"\n",
        "    if problema in base_conocimientos:\n",
        "        return base_conocimientos[problema].accion_correctiva\n",
        "    else:\n",
        "        return \"No se encontró una solución para el problema proporcionado.\"\n",
        "\n",
        "# Ejemplo de diagnóstico y reparación de problemas\n",
        "problema_1 = \"Baja Presión\"\n",
        "solucion_1 = sistema_produccion(problema_1)\n",
        "print(f\"Problema: {problema_1}\\nSolución recomendada: {solucion_1}\")\n",
        "\n",
        "problema_2 = \"Fuga de Agua\"\n",
        "solucion_2 = sistema_produccion(problema_2)\n",
        "print(f\"\\nProblema: {problema_2}\\nSolución recomendada: {solucion_2}\")\n",
        "\n",
        "problema_3 = \"Contador de Agua Dañado\"\n",
        "solucion_3 = sistema_produccion(problema_3)\n",
        "print(f\"\\nProblema: {problema_3}\\nSolución recomendada: {solucion_3}\")\n",
        "\n",
        "# Ejemplo de problema no contemplado en la base de conocimientos\n",
        "problema_4 = \"Falta de Suministro de Agua\"\n",
        "solucion_4 = sistema_produccion(problema_4)\n",
        "print(f\"\\nProblema: {problema_4}\\nSolución recomendada: {solucion_4}\")\n"
      ]
    },
    {
      "cell_type": "markdown",
      "metadata": {
        "id": "OQ_zqHyGx19D"
      },
      "source": [
        "\n",
        "\n",
        "---\n",
        "\n",
        "\n",
        "\n",
        "---\n",
        "\n"
      ]
    },
    {
      "cell_type": "markdown",
      "metadata": {
        "id": "p0FmgaUax19D"
      },
      "source": [
        "**5. Algoritmo para la Creación y Consulta de Redes Semánticas sobre Infraestructuras en Quillota**"
      ]
    },
    {
      "cell_type": "markdown",
      "source": [
        "**Definicion de la Problematica**\n",
        "\n",
        "Este enfoque nos permite modelar y consultar la infraestructura de la ciudad de Quillota de manera estructurada, facilitando la integración y el análisis de información sobre carreteras, tuberías y cables eléctricos mediante una red semántica."
      ],
      "metadata": {
        "id": "2aCpu4hlUmnJ"
      }
    },
    {
      "cell_type": "code",
      "execution_count": 9,
      "metadata": {
        "colab": {
          "base_uri": "https://localhost:8080/"
        },
        "id": "_Ik5Sshcx19E",
        "outputId": "7466f6f9-5398-46ce-9d88-8c57498c92ee"
      },
      "outputs": [
        {
          "output_type": "stream",
          "name": "stdout",
          "text": [
            "Estado de Carretera_A: {'tipo': 'carretera', 'estado': 'bueno'}\n",
            "Conexiones de Tubería_1: [('Cable_Eléctrico_X', 'cerca')]\n"
          ]
        }
      ],
      "source": [
        "import networkx as nx\n",
        "\n",
        "# Creación del grafo que representará la red semántica\n",
        "G = nx.DiGraph()\n",
        "\n",
        "# Definición de nodos para las diferentes infraestructuras\n",
        "# Cada nodo representa una infraestructura específica\n",
        "G.add_node(\"Carretera_A\", tipo=\"carretera\", estado=\"bueno\")\n",
        "G.add_node(\"Carretera_B\", tipo=\"carretera\", estado=\"malo\")\n",
        "G.add_node(\"Tubería_1\", tipo=\"tubería\", capacidad=100)\n",
        "G.add_node(\"Tubería_2\", tipo=\"tubería\", capacidad=150)\n",
        "G.add_node(\"Cable_Eléctrico_X\", tipo=\"cable eléctrico\", voltaje=220)\n",
        "G.add_node(\"Cable_Eléctrico_Y\", tipo=\"cable eléctrico\", voltaje=110)\n",
        "\n",
        "# Definición de relaciones (aristas) entre las infraestructuras\n",
        "# Las aristas indican conexiones o dependencias entre infraestructuras\n",
        "G.add_edge(\"Carretera_A\", \"Tubería_1\", relación=\"cruza\")\n",
        "G.add_edge(\"Carretera_B\", \"Tubería_2\", relación=\"paralelo\")\n",
        "G.add_edge(\"Tubería_1\", \"Cable_Eléctrico_X\", relación=\"cerca\")\n",
        "G.add_edge(\"Tubería_2\", \"Cable_Eléctrico_Y\", relación=\"cerca\")\n",
        "\n",
        "# Función para consultar el estado de una infraestructura específica\n",
        "def consultar_estado(nodo):\n",
        "    \"\"\"\n",
        "    Consultar el estado de un nodo en la red semántica.\n",
        "\n",
        "    \"\"\"\n",
        "    if nodo in G.nodes:\n",
        "        return G.nodes[nodo]\n",
        "    else:\n",
        "        return None\n",
        "\n",
        "# Función para encontrar las conexiones de una infraestructura\n",
        "def consultar_conexiones(nodo):\n",
        "    \"\"\"\n",
        "    Consultar las conexiones de un nodo en la red semántica.\n",
        "\n",
        "    \"\"\"\n",
        "    conexiones = []\n",
        "    if nodo in G.nodes:\n",
        "        for vecino in G.neighbors(nodo):\n",
        "            conexiones.append((vecino, G[nodo][vecino]['relación']))\n",
        "    return conexiones\n",
        "\n",
        "# Consultar el estado de una infraestructura específica\n",
        "nodo = \"Carretera_A\"\n",
        "estado = consultar_estado(nodo)\n",
        "print(f\"Estado de {nodo}: {estado}\")\n",
        "\n",
        "# Consultar las conexiones de una infraestructura específica\n",
        "nodo = \"Tubería_1\"\n",
        "conexiones = consultar_conexiones(nodo)\n",
        "print(f\"Conexiones de {nodo}: {conexiones}\")\n"
      ]
    },
    {
      "cell_type": "markdown",
      "metadata": {
        "id": "6aihm4YLx19E"
      },
      "source": [
        "\n",
        "\n",
        "---\n",
        "\n",
        "\n",
        "\n",
        "---\n",
        "\n",
        "\n"
      ]
    },
    {
      "cell_type": "markdown",
      "metadata": {
        "id": "osAFsMFQx19E"
      },
      "source": [
        "**6. Algoritmo para la Gestión del Tráfico en una Intersección Concurrida utilizando Semáforos Inteligentes con Teoría de Juegos**"
      ]
    },
    {
      "cell_type": "code",
      "execution_count": 11,
      "metadata": {
        "colab": {
          "base_uri": "https://localhost:8080/"
        },
        "id": "EdAeumAbx19I",
        "outputId": "50a42677-b330-4f03-de7b-c727f87026cc"
      },
      "outputs": [
        {
          "output_type": "stream",
          "name": "stdout",
          "text": [
            "No se encontró una solución para el jugador 1.\n"
          ]
        }
      ],
      "source": [
        "import numpy as np\n",
        "from scipy.optimize import linprog\n",
        "\n",
        "# Definición de jugadores (direcciones) y estrategias (tiempos de luz verde)\n",
        "estrategias = [30, 60, 90]  # Estrategias: tiempos de luz verde en segundos\n",
        "\n",
        "# Definición de la matriz de pagos\n",
        "# Filas: estrategias del jugador 1 (Norte-Sur)\n",
        "# Columnas: estrategias del jugador 2 (Este-Oeste)\n",
        "matriz_pagos_NS = np.array([\n",
        "    [40, 50, 70],  # Si NS elige 30 segundos\n",
        "    [30, 40, 60],  # Si NS elige 60 segundos\n",
        "    [20, 30, 50]   # Si NS elige 90 segundos\n",
        "])\n",
        "\n",
        "matriz_pagos_EW = np.array([\n",
        "    [40, 30, 20],  # Si EW elige 30 segundos\n",
        "    [50, 40, 30],  # Si EW elige 60 segundos\n",
        "    [70, 60, 50]   # Si EW elige 90 segundos\n",
        "])\n",
        "\n",
        "# Función para encontrar el equilibrio de Nash utilizando programación lineal\n",
        "def encontrar_equilibrio_nash(matriz_pagos_1, matriz_pagos_2):\n",
        "    \"\"\"\n",
        "    Encuentra el equilibrio de Nash para un juego de dos jugadores con matrices de pagos dadas.\n",
        "\n",
        "    \"\"\"\n",
        "    num_estrategias = matriz_pagos_1.shape[0]\n",
        "\n",
        "    # Resolver para el jugador 1\n",
        "    c = -np.ones(num_estrategias)\n",
        "    A_ub = -matriz_pagos_1.T\n",
        "    b_ub = -np.ones(num_estrategias)\n",
        "    res_1 = linprog(c, A_ub, b_ub)\n",
        "\n",
        "    if res_1.success:\n",
        "        estrategia_optima_1 = res_1.x / res_1.x.sum()\n",
        "    else:\n",
        "        raise ValueError(\"No se encontró una solución para el jugador 1.\")\n",
        "\n",
        "    # Resolver para el jugador 2\n",
        "    c = -np.ones(num_estrategias)\n",
        "    A_ub = -matriz_pagos_2.T\n",
        "    b_ub = -np.ones(num_estrategias)\n",
        "    res_2 = linprog(c, A_ub, b_ub)\n",
        "\n",
        "    if res_2.success:\n",
        "        estrategia_optima_2 = res_2.x / res_2.x.sum()\n",
        "    else:\n",
        "        raise ValueError(\"No se encontró una solución para el jugador 2.\")\n",
        "\n",
        "    return estrategia_optima_1, estrategia_optima_2\n",
        "\n",
        "# Encontrar el equilibrio de Nash\n",
        "try:\n",
        "    estrategia_optima_NS, estrategia_optima_EW = encontrar_equilibrio_nash(matriz_pagos_NS, matriz_pagos_EW)\n",
        "\n",
        "    # Calcular tiempos de luz verde basados en las estrategias óptimas\n",
        "    tiempo_luz_verde_NS = sum(estrategia_optima_NS * estrategias)\n",
        "    tiempo_luz_verde_EW = sum(estrategia_optima_EW * estrategias)\n",
        "\n",
        "    print(f\"Estrategia óptima para NS: {estrategia_optima_NS}\")\n",
        "    print(f\"Estrategia óptima para EW: {estrategia_optima_EW}\")\n",
        "    print(f\"Tiempo de luz verde para NS: {tiempo_luz_verde_NS:.2f} segundos\")\n",
        "    print(f\"Tiempo de luz verde para EW: {tiempo_luz_verde_EW:.2f} segundos\")\n",
        "except ValueError as e:\n",
        "    print(e)\n"
      ]
    }
  ],
  "metadata": {
    "colab": {
      "provenance": []
    },
    "kernelspec": {
      "display_name": "Python 3",
      "name": "python3"
    },
    "language_info": {
      "name": "python"
    }
  },
  "nbformat": 4,
  "nbformat_minor": 0
}